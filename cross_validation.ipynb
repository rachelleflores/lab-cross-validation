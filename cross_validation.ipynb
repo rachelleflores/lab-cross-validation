{
 "cells": [
  {
   "cell_type": "code",
   "execution_count": null,
   "metadata": {},
   "outputs": [],
   "source": []
  },
  {
   "attachments": {},
   "cell_type": "markdown",
   "metadata": {},
   "source": [
    "# Lab | Cross Validation\n",
    "\n",
    "## Instructions\n",
    "### Apply SMOTE for upsampling the data\n",
    "\n",
    "- Use logistic regression to fit the model and compute the accuracy of the model.\n",
    "- Use decision tree classifier to fit the model and compute the accuracy of the model.\n",
    "- Compare the accuracies of the two models.\n",
    "\n",
    "### Apply TomekLinks for downsampling\n",
    "It is important to remember that it does not make the two classes equal but only removes the points from the majority class that are close to other points in minority class.\n",
    "\n",
    "- Use logistic regression to fit the model and compute the accuracy of the model.\n",
    "- Use decision tree classifier to fit the model and compute the accuracy of the model.\n",
    "- Compare the accuracies of the two models.\n",
    "\n",
    "You can also apply this algorithm one more time and check the how the imbalance in the two classes changed from the last time."
   ]
  },
  {
   "cell_type": "code",
   "execution_count": 85,
   "metadata": {},
   "outputs": [],
   "source": [
    "import pandas as pd\n",
    "import numpy as np\n",
    "import matplotlib.pyplot as plt\n",
    "import seaborn as sns\n",
    "\n",
    "#Transformation and modelling\n",
    "from sklearn.model_selection import train_test_split\n",
    "from sklearn.linear_model import LogisticRegression\n",
    "from sklearn.tree import DecisionTreeClassifier\n",
    "\n",
    "# metrics\n",
    "from sklearn.metrics import confusion_matrix, cohen_kappa_score, accuracy_score, precision_score, recall_score, f1_score, roc_auc_score, roc_curve, classification_report"
   ]
  },
  {
   "attachments": {},
   "cell_type": "markdown",
   "metadata": {},
   "source": [
    "### 2. Load Dataset"
   ]
  },
  {
   "attachments": {},
   "cell_type": "markdown",
   "metadata": {},
   "source": [
    "> Since we saw in the previous lab that the standardized dataset yielded slightly better results in general, we will proceed with this transformation. These datasets have been taken from the previous lab."
   ]
  },
  {
   "attachments": {},
   "cell_type": "markdown",
   "metadata": {},
   "source": [
    "#### SMOTE"
   ]
  },
  {
   "cell_type": "code",
   "execution_count": 86,
   "metadata": {},
   "outputs": [
    {
     "data": {
      "text/html": [
       "<div>\n",
       "<style scoped>\n",
       "    .dataframe tbody tr th:only-of-type {\n",
       "        vertical-align: middle;\n",
       "    }\n",
       "\n",
       "    .dataframe tbody tr th {\n",
       "        vertical-align: top;\n",
       "    }\n",
       "\n",
       "    .dataframe thead th {\n",
       "        text-align: right;\n",
       "    }\n",
       "</style>\n",
       "<table border=\"1\" class=\"dataframe\">\n",
       "  <thead>\n",
       "    <tr style=\"text-align: right;\">\n",
       "      <th></th>\n",
       "      <th>tenure</th>\n",
       "      <th>seniorcitizen</th>\n",
       "      <th>monthlycharges</th>\n",
       "      <th>totalcharges</th>\n",
       "    </tr>\n",
       "  </thead>\n",
       "  <tbody>\n",
       "    <tr>\n",
       "      <th>0</th>\n",
       "      <td>0.013889</td>\n",
       "      <td>0.0</td>\n",
       "      <td>0.115423</td>\n",
       "      <td>0.001275</td>\n",
       "    </tr>\n",
       "    <tr>\n",
       "      <th>1</th>\n",
       "      <td>0.472222</td>\n",
       "      <td>0.0</td>\n",
       "      <td>0.385075</td>\n",
       "      <td>0.215867</td>\n",
       "    </tr>\n",
       "    <tr>\n",
       "      <th>2</th>\n",
       "      <td>0.027778</td>\n",
       "      <td>0.0</td>\n",
       "      <td>0.354229</td>\n",
       "      <td>0.010310</td>\n",
       "    </tr>\n",
       "    <tr>\n",
       "      <th>3</th>\n",
       "      <td>0.625000</td>\n",
       "      <td>0.0</td>\n",
       "      <td>0.239303</td>\n",
       "      <td>0.210241</td>\n",
       "    </tr>\n",
       "    <tr>\n",
       "      <th>4</th>\n",
       "      <td>0.027778</td>\n",
       "      <td>0.0</td>\n",
       "      <td>0.521891</td>\n",
       "      <td>0.015330</td>\n",
       "    </tr>\n",
       "    <tr>\n",
       "      <th>...</th>\n",
       "      <td>...</td>\n",
       "      <td>...</td>\n",
       "      <td>...</td>\n",
       "      <td>...</td>\n",
       "    </tr>\n",
       "    <tr>\n",
       "      <th>10343</th>\n",
       "      <td>0.043766</td>\n",
       "      <td>1.0</td>\n",
       "      <td>0.268535</td>\n",
       "      <td>0.012653</td>\n",
       "    </tr>\n",
       "    <tr>\n",
       "      <th>10344</th>\n",
       "      <td>0.445696</td>\n",
       "      <td>0.0</td>\n",
       "      <td>0.458261</td>\n",
       "      <td>0.239726</td>\n",
       "    </tr>\n",
       "    <tr>\n",
       "      <th>10345</th>\n",
       "      <td>0.027778</td>\n",
       "      <td>0.0</td>\n",
       "      <td>0.672666</td>\n",
       "      <td>0.017805</td>\n",
       "    </tr>\n",
       "    <tr>\n",
       "      <th>10346</th>\n",
       "      <td>0.208333</td>\n",
       "      <td>1.0</td>\n",
       "      <td>0.561180</td>\n",
       "      <td>0.124129</td>\n",
       "    </tr>\n",
       "    <tr>\n",
       "      <th>10347</th>\n",
       "      <td>0.205581</td>\n",
       "      <td>0.0</td>\n",
       "      <td>0.069665</td>\n",
       "      <td>0.042812</td>\n",
       "    </tr>\n",
       "  </tbody>\n",
       "</table>\n",
       "<p>10348 rows × 4 columns</p>\n",
       "</div>"
      ],
      "text/plain": [
       "         tenure  seniorcitizen  monthlycharges  totalcharges\n",
       "0      0.013889            0.0        0.115423      0.001275\n",
       "1      0.472222            0.0        0.385075      0.215867\n",
       "2      0.027778            0.0        0.354229      0.010310\n",
       "3      0.625000            0.0        0.239303      0.210241\n",
       "4      0.027778            0.0        0.521891      0.015330\n",
       "...         ...            ...             ...           ...\n",
       "10343  0.043766            1.0        0.268535      0.012653\n",
       "10344  0.445696            0.0        0.458261      0.239726\n",
       "10345  0.027778            0.0        0.672666      0.017805\n",
       "10346  0.208333            1.0        0.561180      0.124129\n",
       "10347  0.205581            0.0        0.069665      0.042812\n",
       "\n",
       "[10348 rows x 4 columns]"
      ]
     },
     "execution_count": 86,
     "metadata": {},
     "output_type": "execute_result"
    }
   ],
   "source": [
    "X_sm = pd.read_csv('x_smote.csv')\n",
    "X_sm"
   ]
  },
  {
   "cell_type": "code",
   "execution_count": 87,
   "metadata": {},
   "outputs": [
    {
     "data": {
      "text/html": [
       "<div>\n",
       "<style scoped>\n",
       "    .dataframe tbody tr th:only-of-type {\n",
       "        vertical-align: middle;\n",
       "    }\n",
       "\n",
       "    .dataframe tbody tr th {\n",
       "        vertical-align: top;\n",
       "    }\n",
       "\n",
       "    .dataframe thead th {\n",
       "        text-align: right;\n",
       "    }\n",
       "</style>\n",
       "<table border=\"1\" class=\"dataframe\">\n",
       "  <thead>\n",
       "    <tr style=\"text-align: right;\">\n",
       "      <th></th>\n",
       "      <th>churn</th>\n",
       "    </tr>\n",
       "  </thead>\n",
       "  <tbody>\n",
       "    <tr>\n",
       "      <th>0</th>\n",
       "      <td>0</td>\n",
       "    </tr>\n",
       "    <tr>\n",
       "      <th>1</th>\n",
       "      <td>0</td>\n",
       "    </tr>\n",
       "    <tr>\n",
       "      <th>2</th>\n",
       "      <td>1</td>\n",
       "    </tr>\n",
       "    <tr>\n",
       "      <th>3</th>\n",
       "      <td>0</td>\n",
       "    </tr>\n",
       "    <tr>\n",
       "      <th>4</th>\n",
       "      <td>1</td>\n",
       "    </tr>\n",
       "    <tr>\n",
       "      <th>...</th>\n",
       "      <td>...</td>\n",
       "    </tr>\n",
       "    <tr>\n",
       "      <th>10343</th>\n",
       "      <td>1</td>\n",
       "    </tr>\n",
       "    <tr>\n",
       "      <th>10344</th>\n",
       "      <td>1</td>\n",
       "    </tr>\n",
       "    <tr>\n",
       "      <th>10345</th>\n",
       "      <td>1</td>\n",
       "    </tr>\n",
       "    <tr>\n",
       "      <th>10346</th>\n",
       "      <td>1</td>\n",
       "    </tr>\n",
       "    <tr>\n",
       "      <th>10347</th>\n",
       "      <td>1</td>\n",
       "    </tr>\n",
       "  </tbody>\n",
       "</table>\n",
       "<p>10348 rows × 1 columns</p>\n",
       "</div>"
      ],
      "text/plain": [
       "       churn\n",
       "0          0\n",
       "1          0\n",
       "2          1\n",
       "3          0\n",
       "4          1\n",
       "...      ...\n",
       "10343      1\n",
       "10344      1\n",
       "10345      1\n",
       "10346      1\n",
       "10347      1\n",
       "\n",
       "[10348 rows x 1 columns]"
      ]
     },
     "execution_count": 87,
     "metadata": {},
     "output_type": "execute_result"
    }
   ],
   "source": [
    "y_sm = pd.read_csv('y_smote.csv')\n",
    "y_sm"
   ]
  },
  {
   "attachments": {},
   "cell_type": "markdown",
   "metadata": {},
   "source": [
    "#### Tomeklinks"
   ]
  },
  {
   "cell_type": "code",
   "execution_count": 88,
   "metadata": {},
   "outputs": [
    {
     "data": {
      "text/html": [
       "<div>\n",
       "<style scoped>\n",
       "    .dataframe tbody tr th:only-of-type {\n",
       "        vertical-align: middle;\n",
       "    }\n",
       "\n",
       "    .dataframe tbody tr th {\n",
       "        vertical-align: top;\n",
       "    }\n",
       "\n",
       "    .dataframe thead th {\n",
       "        text-align: right;\n",
       "    }\n",
       "</style>\n",
       "<table border=\"1\" class=\"dataframe\">\n",
       "  <thead>\n",
       "    <tr style=\"text-align: right;\">\n",
       "      <th></th>\n",
       "      <th>tenure</th>\n",
       "      <th>seniorcitizen</th>\n",
       "      <th>monthlycharges</th>\n",
       "      <th>totalcharges</th>\n",
       "    </tr>\n",
       "  </thead>\n",
       "  <tbody>\n",
       "    <tr>\n",
       "      <th>0</th>\n",
       "      <td>0.013889</td>\n",
       "      <td>0.0</td>\n",
       "      <td>0.115423</td>\n",
       "      <td>0.001275</td>\n",
       "    </tr>\n",
       "    <tr>\n",
       "      <th>1</th>\n",
       "      <td>0.472222</td>\n",
       "      <td>0.0</td>\n",
       "      <td>0.385075</td>\n",
       "      <td>0.215867</td>\n",
       "    </tr>\n",
       "    <tr>\n",
       "      <th>2</th>\n",
       "      <td>0.027778</td>\n",
       "      <td>0.0</td>\n",
       "      <td>0.354229</td>\n",
       "      <td>0.010310</td>\n",
       "    </tr>\n",
       "    <tr>\n",
       "      <th>3</th>\n",
       "      <td>0.625000</td>\n",
       "      <td>0.0</td>\n",
       "      <td>0.239303</td>\n",
       "      <td>0.210241</td>\n",
       "    </tr>\n",
       "    <tr>\n",
       "      <th>4</th>\n",
       "      <td>0.027778</td>\n",
       "      <td>0.0</td>\n",
       "      <td>0.521891</td>\n",
       "      <td>0.015330</td>\n",
       "    </tr>\n",
       "    <tr>\n",
       "      <th>...</th>\n",
       "      <td>...</td>\n",
       "      <td>...</td>\n",
       "      <td>...</td>\n",
       "      <td>...</td>\n",
       "    </tr>\n",
       "    <tr>\n",
       "      <th>6515</th>\n",
       "      <td>1.000000</td>\n",
       "      <td>0.0</td>\n",
       "      <td>0.028856</td>\n",
       "      <td>0.161620</td>\n",
       "    </tr>\n",
       "    <tr>\n",
       "      <th>6516</th>\n",
       "      <td>0.333333</td>\n",
       "      <td>0.0</td>\n",
       "      <td>0.662189</td>\n",
       "      <td>0.227521</td>\n",
       "    </tr>\n",
       "    <tr>\n",
       "      <th>6517</th>\n",
       "      <td>0.152778</td>\n",
       "      <td>0.0</td>\n",
       "      <td>0.112935</td>\n",
       "      <td>0.037809</td>\n",
       "    </tr>\n",
       "    <tr>\n",
       "      <th>6518</th>\n",
       "      <td>0.055556</td>\n",
       "      <td>1.0</td>\n",
       "      <td>0.558706</td>\n",
       "      <td>0.033210</td>\n",
       "    </tr>\n",
       "    <tr>\n",
       "      <th>6519</th>\n",
       "      <td>0.916667</td>\n",
       "      <td>0.0</td>\n",
       "      <td>0.869652</td>\n",
       "      <td>0.787641</td>\n",
       "    </tr>\n",
       "  </tbody>\n",
       "</table>\n",
       "<p>6520 rows × 4 columns</p>\n",
       "</div>"
      ],
      "text/plain": [
       "        tenure  seniorcitizen  monthlycharges  totalcharges\n",
       "0     0.013889            0.0        0.115423      0.001275\n",
       "1     0.472222            0.0        0.385075      0.215867\n",
       "2     0.027778            0.0        0.354229      0.010310\n",
       "3     0.625000            0.0        0.239303      0.210241\n",
       "4     0.027778            0.0        0.521891      0.015330\n",
       "...        ...            ...             ...           ...\n",
       "6515  1.000000            0.0        0.028856      0.161620\n",
       "6516  0.333333            0.0        0.662189      0.227521\n",
       "6517  0.152778            0.0        0.112935      0.037809\n",
       "6518  0.055556            1.0        0.558706      0.033210\n",
       "6519  0.916667            0.0        0.869652      0.787641\n",
       "\n",
       "[6520 rows x 4 columns]"
      ]
     },
     "execution_count": 88,
     "metadata": {},
     "output_type": "execute_result"
    }
   ],
   "source": [
    "X_tl = pd.read_csv('x_tl.csv')\n",
    "X_tl"
   ]
  },
  {
   "cell_type": "code",
   "execution_count": 89,
   "metadata": {},
   "outputs": [
    {
     "data": {
      "text/html": [
       "<div>\n",
       "<style scoped>\n",
       "    .dataframe tbody tr th:only-of-type {\n",
       "        vertical-align: middle;\n",
       "    }\n",
       "\n",
       "    .dataframe tbody tr th {\n",
       "        vertical-align: top;\n",
       "    }\n",
       "\n",
       "    .dataframe thead th {\n",
       "        text-align: right;\n",
       "    }\n",
       "</style>\n",
       "<table border=\"1\" class=\"dataframe\">\n",
       "  <thead>\n",
       "    <tr style=\"text-align: right;\">\n",
       "      <th></th>\n",
       "      <th>churn</th>\n",
       "    </tr>\n",
       "  </thead>\n",
       "  <tbody>\n",
       "    <tr>\n",
       "      <th>0</th>\n",
       "      <td>0</td>\n",
       "    </tr>\n",
       "    <tr>\n",
       "      <th>1</th>\n",
       "      <td>0</td>\n",
       "    </tr>\n",
       "    <tr>\n",
       "      <th>2</th>\n",
       "      <td>1</td>\n",
       "    </tr>\n",
       "    <tr>\n",
       "      <th>3</th>\n",
       "      <td>0</td>\n",
       "    </tr>\n",
       "    <tr>\n",
       "      <th>4</th>\n",
       "      <td>1</td>\n",
       "    </tr>\n",
       "    <tr>\n",
       "      <th>...</th>\n",
       "      <td>...</td>\n",
       "    </tr>\n",
       "    <tr>\n",
       "      <th>6515</th>\n",
       "      <td>0</td>\n",
       "    </tr>\n",
       "    <tr>\n",
       "      <th>6516</th>\n",
       "      <td>0</td>\n",
       "    </tr>\n",
       "    <tr>\n",
       "      <th>6517</th>\n",
       "      <td>0</td>\n",
       "    </tr>\n",
       "    <tr>\n",
       "      <th>6518</th>\n",
       "      <td>1</td>\n",
       "    </tr>\n",
       "    <tr>\n",
       "      <th>6519</th>\n",
       "      <td>0</td>\n",
       "    </tr>\n",
       "  </tbody>\n",
       "</table>\n",
       "<p>6520 rows × 1 columns</p>\n",
       "</div>"
      ],
      "text/plain": [
       "      churn\n",
       "0         0\n",
       "1         0\n",
       "2         1\n",
       "3         0\n",
       "4         1\n",
       "...     ...\n",
       "6515      0\n",
       "6516      0\n",
       "6517      0\n",
       "6518      1\n",
       "6519      0\n",
       "\n",
       "[6520 rows x 1 columns]"
      ]
     },
     "execution_count": 89,
     "metadata": {},
     "output_type": "execute_result"
    }
   ],
   "source": [
    "y_tl = pd.read_csv('y_tl.csv')\n",
    "y_tl"
   ]
  },
  {
   "cell_type": "code",
   "execution_count": 90,
   "metadata": {},
   "outputs": [],
   "source": [
    "# Models\n",
    "logreg = LogisticRegression(random_state = 0)\n",
    "dt_gini = DecisionTreeClassifier(criterion = 'gini', random_state = 0)\n",
    "dt_ent = DecisionTreeClassifier(criterion = 'entropy', random_state = 0)"
   ]
  },
  {
   "attachments": {},
   "cell_type": "markdown",
   "metadata": {},
   "source": [
    "### Standardized SMOTE Dataset"
   ]
  },
  {
   "cell_type": "code",
   "execution_count": 91,
   "metadata": {},
   "outputs": [],
   "source": [
    "# train-test split using standardized X\n",
    "Xs_train, Xs_test, ys_train, ys_test = train_test_split(X_sm, y_sm.churn, random_state=1)"
   ]
  },
  {
   "cell_type": "code",
   "execution_count": 92,
   "metadata": {},
   "outputs": [],
   "source": [
    "# Logistic Regression\n",
    "logreg.fit(Xs_train, ys_train)\n",
    "log_sm_predict = logreg.predict(Xs_test)"
   ]
  },
  {
   "cell_type": "code",
   "execution_count": 93,
   "metadata": {},
   "outputs": [
    {
     "name": "stdout",
     "output_type": "stream",
     "text": [
      "Classification report for logistic regression:\n",
      "               precision    recall  f1-score   support\n",
      "\n",
      "           0       0.77      0.73      0.75      1330\n",
      "           1       0.73      0.77      0.75      1257\n",
      "\n",
      "    accuracy                           0.75      2587\n",
      "   macro avg       0.75      0.75      0.75      2587\n",
      "weighted avg       0.75      0.75      0.75      2587\n",
      "\n"
     ]
    }
   ],
   "source": [
    "log_sm_metrics = classification_report(ys_test, log_sm_predict)\n",
    "print(\"Classification report for logistic regression:\\n\", log_sm_metrics)"
   ]
  },
  {
   "cell_type": "code",
   "execution_count": 94,
   "metadata": {},
   "outputs": [],
   "source": [
    "# Decision Tree, gini\n",
    "dt_gini.fit(Xs_train, ys_train)\n",
    "dtg_sm_predict = dt_gini.predict(Xs_test)"
   ]
  },
  {
   "cell_type": "code",
   "execution_count": 95,
   "metadata": {},
   "outputs": [
    {
     "name": "stdout",
     "output_type": "stream",
     "text": [
      "Classification report for logistic regression:\n",
      "               precision    recall  f1-score   support\n",
      "\n",
      "           0       0.79      0.76      0.77      1330\n",
      "           1       0.75      0.79      0.77      1257\n",
      "\n",
      "    accuracy                           0.77      2587\n",
      "   macro avg       0.77      0.77      0.77      2587\n",
      "weighted avg       0.77      0.77      0.77      2587\n",
      "\n"
     ]
    }
   ],
   "source": [
    "dtg_sm_metrics = classification_report(ys_test, dtg_sm_predict)\n",
    "print(\"Classification report for logistic regression:\\n\", dtg_sm_metrics)"
   ]
  },
  {
   "cell_type": "code",
   "execution_count": 96,
   "metadata": {},
   "outputs": [],
   "source": [
    "# Decision Tree, entropy\n",
    "dt_ent.fit(Xs_train, ys_train)\n",
    "dte_sm_predict = dt_ent.predict(Xs_test)"
   ]
  },
  {
   "cell_type": "code",
   "execution_count": 97,
   "metadata": {},
   "outputs": [
    {
     "name": "stdout",
     "output_type": "stream",
     "text": [
      "Classification report for logistic regression:\n",
      "               precision    recall  f1-score   support\n",
      "\n",
      "           0       0.79      0.75      0.76      1330\n",
      "           1       0.74      0.79      0.76      1257\n",
      "\n",
      "    accuracy                           0.76      2587\n",
      "   macro avg       0.77      0.77      0.76      2587\n",
      "weighted avg       0.77      0.76      0.76      2587\n",
      "\n"
     ]
    }
   ],
   "source": [
    "dte_sm_metrics = classification_report(ys_test, dte_sm_predict)\n",
    "print(\"Classification report for logistic regression:\\n\", dte_sm_metrics)"
   ]
  },
  {
   "attachments": {},
   "cell_type": "markdown",
   "metadata": {},
   "source": [
    "> **Observations:**\n",
    "> - Using the SMOTE dataset, decision tree with gini index has a slightly higher accuracy of 77% compared to the logistic regression with 75% and decision tree model with entropy which yielded 76%."
   ]
  },
  {
   "attachments": {},
   "cell_type": "markdown",
   "metadata": {},
   "source": [
    "### Standardized TomekLinks Dataset"
   ]
  },
  {
   "cell_type": "code",
   "execution_count": 98,
   "metadata": {},
   "outputs": [],
   "source": [
    "# train-test split using standardized X\n",
    "X_train, X_test, y_train, y_test = train_test_split(X_tl, y_tl.churn, random_state=1)"
   ]
  },
  {
   "cell_type": "code",
   "execution_count": 99,
   "metadata": {},
   "outputs": [],
   "source": [
    "# Logistic Regression\n",
    "logreg.fit(X_train, y_train)\n",
    "log_tl_predict = logreg.predict(X_test)"
   ]
  },
  {
   "cell_type": "code",
   "execution_count": 100,
   "metadata": {},
   "outputs": [
    {
     "name": "stdout",
     "output_type": "stream",
     "text": [
      "Classification report for logistic regression:\n",
      "               precision    recall  f1-score   support\n",
      "\n",
      "           0       0.82      0.91      0.86      1161\n",
      "           1       0.69      0.51      0.59       469\n",
      "\n",
      "    accuracy                           0.79      1630\n",
      "   macro avg       0.76      0.71      0.73      1630\n",
      "weighted avg       0.78      0.79      0.78      1630\n",
      "\n"
     ]
    }
   ],
   "source": [
    "log_tl_metrics = classification_report(y_test, log_tl_predict)\n",
    "print(\"Classification report for logistic regression:\\n\", log_tl_metrics)"
   ]
  },
  {
   "cell_type": "code",
   "execution_count": 101,
   "metadata": {},
   "outputs": [],
   "source": [
    "# Decision Tree, gini\n",
    "dt_gini.fit(X_train, y_train)\n",
    "dtg_tl_predict = dt_gini.predict(X_test)"
   ]
  },
  {
   "cell_type": "code",
   "execution_count": 102,
   "metadata": {},
   "outputs": [
    {
     "name": "stdout",
     "output_type": "stream",
     "text": [
      "Classification report for logistic regression:\n",
      "               precision    recall  f1-score   support\n",
      "\n",
      "           0       0.82      0.84      0.83      1161\n",
      "           1       0.59      0.55      0.57       469\n",
      "\n",
      "    accuracy                           0.76      1630\n",
      "   macro avg       0.71      0.70      0.70      1630\n",
      "weighted avg       0.76      0.76      0.76      1630\n",
      "\n"
     ]
    }
   ],
   "source": [
    "dtg_tl_metrics = classification_report(y_test, dtg_tl_predict)\n",
    "print(\"Classification report for logistic regression:\\n\", dtg_tl_metrics)"
   ]
  },
  {
   "cell_type": "code",
   "execution_count": 103,
   "metadata": {},
   "outputs": [],
   "source": [
    "# Decision Tree, entropy\n",
    "dt_ent.fit(X_train, y_train)\n",
    "dte_tl_predict = dt_ent.predict(X_test)"
   ]
  },
  {
   "cell_type": "code",
   "execution_count": 104,
   "metadata": {},
   "outputs": [
    {
     "name": "stdout",
     "output_type": "stream",
     "text": [
      "Classification report for logistic regression:\n",
      "               precision    recall  f1-score   support\n",
      "\n",
      "           0       0.82      0.83      0.83      1161\n",
      "           1       0.57      0.54      0.55       469\n",
      "\n",
      "    accuracy                           0.75      1630\n",
      "   macro avg       0.69      0.68      0.69      1630\n",
      "weighted avg       0.74      0.75      0.75      1630\n",
      "\n"
     ]
    }
   ],
   "source": [
    "dte_tl_metrics = classification_report(y_test, dte_tl_predict)\n",
    "print(\"Classification report for logistic regression:\\n\", dte_tl_metrics)"
   ]
  },
  {
   "attachments": {},
   "cell_type": "markdown",
   "metadata": {},
   "source": [
    "> **Observations:**\n",
    "> - Using the TomekLinks dataset, logistic regression has a higher accuracy of 79% compared to the 2 decision tree models, using gini and entropy respectively."
   ]
  }
 ],
 "metadata": {
  "kernelspec": {
   "display_name": "Python 3",
   "language": "python",
   "name": "python3"
  },
  "language_info": {
   "codemirror_mode": {
    "name": "ipython",
    "version": 3
   },
   "file_extension": ".py",
   "mimetype": "text/x-python",
   "name": "python",
   "nbconvert_exporter": "python",
   "pygments_lexer": "ipython3",
   "version": "3.11.3"
  },
  "orig_nbformat": 4
 },
 "nbformat": 4,
 "nbformat_minor": 2
}
